{
 "cells": [
  {
   "cell_type": "code",
   "execution_count": 35,
   "metadata": {},
   "outputs": [
    {
     "name": "stdout",
     "output_type": "stream",
     "text": [
      "Requirement already satisfied: fairseq in c:\\users\\post scriptum\\appdata\\local\\packages\\pythonsoftwarefoundation.python.3.9_qbz5n2kfra8p0\\localcache\\local-packages\\python39\\site-packages (1.0.0a0+3369427)\n",
      "Requirement already satisfied: omegaconf<2.1 in c:\\users\\post scriptum\\appdata\\local\\packages\\pythonsoftwarefoundation.python.3.9_qbz5n2kfra8p0\\localcache\\local-packages\\python39\\site-packages (from fairseq) (2.0.6)"
     ]
    },
    {
     "name": "stderr",
     "output_type": "stream",
     "text": [
      "\n",
      "[notice] A new release of pip available: 22.2.2 -> 22.3.1\n",
      "[notice] To update, run: C:\\Users\\Post Scriptum\\AppData\\Local\\Microsoft\\WindowsApps\\PythonSoftwareFoundation.Python.3.9_qbz5n2kfra8p0\\python.exe -m pip install --upgrade pip\n"
     ]
    },
    {
     "name": "stdout",
     "output_type": "stream",
     "text": [
      "\n",
      "Requirement already satisfied: torch in c:\\users\\post scriptum\\appdata\\local\\packages\\pythonsoftwarefoundation.python.3.9_qbz5n2kfra8p0\\localcache\\local-packages\\python39\\site-packages (from fairseq) (1.11.0+cu113)\n",
      "Requirement already satisfied: tqdm in c:\\users\\post scriptum\\appdata\\local\\packages\\pythonsoftwarefoundation.python.3.9_qbz5n2kfra8p0\\localcache\\local-packages\\python39\\site-packages (from fairseq) (4.63.0)\n",
      "Requirement already satisfied: numpy in c:\\users\\post scriptum\\appdata\\local\\packages\\pythonsoftwarefoundation.python.3.9_qbz5n2kfra8p0\\localcache\\local-packages\\python39\\site-packages (from fairseq) (1.19.5)\n",
      "Requirement already satisfied: cffi in c:\\users\\post scriptum\\appdata\\local\\packages\\pythonsoftwarefoundation.python.3.9_qbz5n2kfra8p0\\localcache\\local-packages\\python39\\site-packages (from fairseq) (1.15.0)\n",
      "Requirement already satisfied: sacrebleu>=1.4.12 in c:\\users\\post scriptum\\appdata\\local\\packages\\pythonsoftwarefoundation.python.3.9_qbz5n2kfra8p0\\localcache\\local-packages\\python39\\site-packages (from fairseq) (2.3.1)\n",
      "Requirement already satisfied: regex in c:\\users\\post scriptum\\appdata\\local\\packages\\pythonsoftwarefoundation.python.3.9_qbz5n2kfra8p0\\localcache\\local-packages\\python39\\site-packages (from fairseq) (2022.4.24)\n",
      "Requirement already satisfied: cython in c:\\users\\post scriptum\\appdata\\local\\packages\\pythonsoftwarefoundation.python.3.9_qbz5n2kfra8p0\\localcache\\local-packages\\python39\\site-packages (from fairseq) (0.29.28)\n",
      "Requirement already satisfied: hydra-core<1.1 in c:\\users\\post scriptum\\appdata\\local\\packages\\pythonsoftwarefoundation.python.3.9_qbz5n2kfra8p0\\localcache\\local-packages\\python39\\site-packages (from fairseq) (1.0.7)\n",
      "Requirement already satisfied: antlr4-python3-runtime==4.8 in c:\\users\\post scriptum\\appdata\\local\\packages\\pythonsoftwarefoundation.python.3.9_qbz5n2kfra8p0\\localcache\\local-packages\\python39\\site-packages (from hydra-core<1.1->fairseq) (4.8)\n",
      "Requirement already satisfied: typing-extensions in c:\\users\\post scriptum\\appdata\\local\\packages\\pythonsoftwarefoundation.python.3.9_qbz5n2kfra8p0\\localcache\\local-packages\\python39\\site-packages (from omegaconf<2.1->fairseq) (3.7.4.3)\n",
      "Requirement already satisfied: PyYAML>=5.1.* in c:\\users\\post scriptum\\appdata\\local\\packages\\pythonsoftwarefoundation.python.3.9_qbz5n2kfra8p0\\localcache\\local-packages\\python39\\site-packages (from omegaconf<2.1->fairseq) (6.0)\n",
      "Requirement already satisfied: portalocker in c:\\users\\post scriptum\\appdata\\local\\packages\\pythonsoftwarefoundation.python.3.9_qbz5n2kfra8p0\\localcache\\local-packages\\python39\\site-packages (from sacrebleu>=1.4.12->fairseq) (2.6.0)\n",
      "Requirement already satisfied: colorama in c:\\users\\post scriptum\\appdata\\local\\packages\\pythonsoftwarefoundation.python.3.9_qbz5n2kfra8p0\\localcache\\local-packages\\python39\\site-packages (from sacrebleu>=1.4.12->fairseq) (0.4.4)\n",
      "Requirement already satisfied: lxml in c:\\users\\post scriptum\\appdata\\local\\packages\\pythonsoftwarefoundation.python.3.9_qbz5n2kfra8p0\\localcache\\local-packages\\python39\\site-packages (from sacrebleu>=1.4.12->fairseq) (4.8.0)\n",
      "Requirement already satisfied: tabulate>=0.8.9 in c:\\users\\post scriptum\\appdata\\local\\packages\\pythonsoftwarefoundation.python.3.9_qbz5n2kfra8p0\\localcache\\local-packages\\python39\\site-packages (from sacrebleu>=1.4.12->fairseq) (0.9.0)\n",
      "Requirement already satisfied: pycparser in c:\\users\\post scriptum\\appdata\\local\\packages\\pythonsoftwarefoundation.python.3.9_qbz5n2kfra8p0\\localcache\\local-packages\\python39\\site-packages (from cffi->fairseq) (2.21)\n",
      "Requirement already satisfied: pywin32>=226 in c:\\users\\post scriptum\\appdata\\local\\packages\\pythonsoftwarefoundation.python.3.9_qbz5n2kfra8p0\\localcache\\local-packages\\python39\\site-packages (from portalocker->sacrebleu>=1.4.12->fairseq) (303)\n"
     ]
    }
   ],
   "source": [
    "!pip install fairseq"
   ]
  },
  {
   "cell_type": "code",
   "execution_count": 36,
   "metadata": {},
   "outputs": [
    {
     "name": "stdout",
     "output_type": "stream",
     "text": [
      "Requirement already satisfied: tensorboardX in c:\\users\\post scriptum\\appdata\\local\\packages\\pythonsoftwarefoundation.python.3.9_qbz5n2kfra8p0\\localcache\\local-packages\\python39\\site-packages (2.5.1)\n",
      "Requirement already satisfied: numpy in c:\\users\\post scriptum\\appdata\\local\\packages\\pythonsoftwarefoundation.python.3.9_qbz5n2kfra8p0\\localcache\\local-packages\\python39\\site-packages (from tensorboardX) (1.19.5)\n",
      "Requirement already satisfied: protobuf<=3.20.1,>=3.8.0 in c:\\users\\post scriptum\\appdata\\local\\packages\\pythonsoftwarefoundation.python.3.9_qbz5n2kfra8p0\\localcache\\local-packages\\python39\\site-packages (from tensorboardX) (3.15.7)\n",
      "Requirement already satisfied: six>=1.9 in c:\\users\\post scriptum\\appdata\\local\\packages\\pythonsoftwarefoundation.python.3.9_qbz5n2kfra8p0\\localcache\\local-packages\\python39\\site-packages (from protobuf<=3.20.1,>=3.8.0->tensorboardX) (1.15.0)\n"
     ]
    },
    {
     "name": "stderr",
     "output_type": "stream",
     "text": [
      "\n",
      "[notice] A new release of pip available: 22.2.2 -> 22.3.1\n",
      "[notice] To update, run: C:\\Users\\Post Scriptum\\AppData\\Local\\Microsoft\\WindowsApps\\PythonSoftwareFoundation.Python.3.9_qbz5n2kfra8p0\\python.exe -m pip install --upgrade pip\n"
     ]
    }
   ],
   "source": [
    "!pip install tensorboardX"
   ]
  },
  {
   "cell_type": "code",
   "execution_count": 37,
   "metadata": {},
   "outputs": [],
   "source": [
    "!binarize_nsp.sh acc"
   ]
  },
  {
   "cell_type": "code",
   "execution_count": 38,
   "metadata": {},
   "outputs": [
    {
     "name": "stderr",
     "output_type": "stream",
     "text": [
      "fatal: destination path 'fairseq' already exists and is not an empty directory.\n"
     ]
    }
   ],
   "source": [
    "!git clone https://github.com/pytorch/fairseq"
   ]
  },
  {
   "cell_type": "code",
   "execution_count": 39,
   "metadata": {},
   "outputs": [
    {
     "name": "stderr",
     "output_type": "stream",
     "text": [
      "The system cannot find the path specified.\n"
     ]
    }
   ],
   "source": [
    "!cd fairseq;git checkout 336942734c85791a90baa373c212d27e7c722662;pip install --editable ."
   ]
  },
  {
   "cell_type": "code",
   "execution_count": 40,
   "metadata": {},
   "outputs": [
    {
     "name": "stderr",
     "output_type": "stream",
     "text": [
      "The system cannot find the path specified.\n"
     ]
    }
   ],
   "source": [
    "!cd fairseq;git checkout 336942734c85791a90baa373c212d27e7c722662"
   ]
  },
  {
   "cell_type": "code",
   "execution_count": 41,
   "metadata": {},
   "outputs": [
    {
     "name": "stdout",
     "output_type": "stream",
     "text": [
      "s:\\NLP\\PiRhDy\\musicbert\\fairseq\n"
     ]
    }
   ],
   "source": [
    "%cd fairseq"
   ]
  },
  {
   "cell_type": "code",
   "execution_count": 42,
   "metadata": {},
   "outputs": [
    {
     "ename": "KeyboardInterrupt",
     "evalue": "",
     "output_type": "error",
     "traceback": [
      "\u001b[1;31m---------------------------------------------------------------------------\u001b[0m",
      "\u001b[1;31mKeyboardInterrupt\u001b[0m                         Traceback (most recent call last)",
      "\u001b[1;32ms:\\NLP\\PiRhDy\\musicbert\\musicbert.ipynb 셀 8\u001b[0m in \u001b[0;36m<cell line: 6>\u001b[1;34m()\u001b[0m\n\u001b[0;32m      <a href='vscode-notebook-cell:/s%3A/NLP/PiRhDy/musicbert/musicbert.ipynb#X10sZmlsZQ%3D%3D?line=1'>2</a>\u001b[0m \u001b[39mimport\u001b[39;00m \u001b[39mos\u001b[39;00m \n\u001b[0;32m      <a href='vscode-notebook-cell:/s%3A/NLP/PiRhDy/musicbert/musicbert.ipynb#X10sZmlsZQ%3D%3D?line=3'>4</a>\u001b[0m sys\u001b[39m.\u001b[39mpath\u001b[39m.\u001b[39mappend(\u001b[39m\"\u001b[39m\u001b[39mS:/NLP/PiRhDy/musicbert/fairseq\u001b[39m\u001b[39m\"\u001b[39m)\n\u001b[1;32m----> <a href='vscode-notebook-cell:/s%3A/NLP/PiRhDy/musicbert/musicbert.ipynb#X10sZmlsZQ%3D%3D?line=5'>6</a>\u001b[0m \u001b[39mfrom\u001b[39;00m \u001b[39mfairseq\u001b[39;00m\u001b[39m.\u001b[39;00m\u001b[39mmodels\u001b[39;00m\u001b[39m.\u001b[39;00m\u001b[39mroberta\u001b[39;00m \u001b[39mimport\u001b[39;00m RobertaModel\n",
      "File \u001b[1;32ms:\\NLP\\PiRhDy\\musicbert\\fairseq\\fairseq\\__init__.py:20\u001b[0m, in \u001b[0;36m<module>\u001b[1;34m\u001b[0m\n\u001b[0;32m     17\u001b[0m __all__ \u001b[39m=\u001b[39m [\u001b[39m\"\u001b[39m\u001b[39mpdb\u001b[39m\u001b[39m\"\u001b[39m]\n\u001b[0;32m     19\u001b[0m \u001b[39m# backwards compatibility to support `from fairseq.meters import AverageMeter`\u001b[39;00m\n\u001b[1;32m---> 20\u001b[0m \u001b[39mfrom\u001b[39;00m \u001b[39mfairseq\u001b[39;00m\u001b[39m.\u001b[39;00m\u001b[39mlogging\u001b[39;00m \u001b[39mimport\u001b[39;00m meters, metrics, progress_bar  \u001b[39m# noqa\u001b[39;00m\n\u001b[0;32m     22\u001b[0m sys\u001b[39m.\u001b[39mmodules[\u001b[39m\"\u001b[39m\u001b[39mfairseq.meters\u001b[39m\u001b[39m\"\u001b[39m] \u001b[39m=\u001b[39m meters\n\u001b[0;32m     23\u001b[0m sys\u001b[39m.\u001b[39mmodules[\u001b[39m\"\u001b[39m\u001b[39mfairseq.metrics\u001b[39m\u001b[39m\"\u001b[39m] \u001b[39m=\u001b[39m metrics\n",
      "File \u001b[1;32ms:\\NLP\\PiRhDy\\musicbert\\fairseq\\fairseq\\logging\\meters.py:13\u001b[0m, in \u001b[0;36m<module>\u001b[1;34m\u001b[0m\n\u001b[0;32m      9\u001b[0m \u001b[39mfrom\u001b[39;00m \u001b[39mtyping\u001b[39;00m \u001b[39mimport\u001b[39;00m Dict, Optional\n\u001b[0;32m     12\u001b[0m \u001b[39mtry\u001b[39;00m:\n\u001b[1;32m---> 13\u001b[0m     \u001b[39mimport\u001b[39;00m \u001b[39mtorch\u001b[39;00m\n\u001b[0;32m     15\u001b[0m     \u001b[39mdef\u001b[39;00m \u001b[39mtype_as\u001b[39m(a, b):\n\u001b[0;32m     16\u001b[0m         \u001b[39mif\u001b[39;00m torch\u001b[39m.\u001b[39mis_tensor(a) \u001b[39mand\u001b[39;00m torch\u001b[39m.\u001b[39mis_tensor(b):\n",
      "File \u001b[1;32m~\\AppData\\Local\\Packages\\PythonSoftwareFoundation.Python.3.9_qbz5n2kfra8p0\\LocalCache\\local-packages\\Python39\\site-packages\\torch\\__init__.py:121\u001b[0m, in \u001b[0;36m<module>\u001b[1;34m\u001b[0m\n\u001b[0;32m    119\u001b[0m is_loaded \u001b[39m=\u001b[39m \u001b[39mFalse\u001b[39;00m\n\u001b[0;32m    120\u001b[0m \u001b[39mif\u001b[39;00m with_load_library_flags:\n\u001b[1;32m--> 121\u001b[0m     res \u001b[39m=\u001b[39m kernel32\u001b[39m.\u001b[39;49mLoadLibraryExW(dll, \u001b[39mNone\u001b[39;49;00m, \u001b[39m0x00001100\u001b[39;49m)\n\u001b[0;32m    122\u001b[0m     last_error \u001b[39m=\u001b[39m ctypes\u001b[39m.\u001b[39mget_last_error()\n\u001b[0;32m    123\u001b[0m     \u001b[39mif\u001b[39;00m res \u001b[39mis\u001b[39;00m \u001b[39mNone\u001b[39;00m \u001b[39mand\u001b[39;00m last_error \u001b[39m!=\u001b[39m \u001b[39m126\u001b[39m:\n",
      "\u001b[1;31mKeyboardInterrupt\u001b[0m: "
     ]
    }
   ],
   "source": [
    "import sys\n",
    "import os \n",
    "\n",
    "sys.path.append(\"S:/NLP/PiRhDy/musicbert/fairseq\")\n",
    "\n",
    "from fairseq.models.roberta import RobertaModel"
   ]
  },
  {
   "cell_type": "code",
   "execution_count": 3,
   "metadata": {},
   "outputs": [
    {
     "name": "stdout",
     "output_type": "stream",
     "text": [
      "s:\\NLP\\PiRhDy\n"
     ]
    }
   ],
   "source": [
    "%cd ../"
   ]
  },
  {
   "cell_type": "code",
   "execution_count": 14,
   "metadata": {},
   "outputs": [],
   "source": [
    "import pickle\n",
    "import numpy as np\n",
    "import json\n",
    "from scipy.sparse import csc_matrix\n",
    "import copy\n",
    "import random\n",
    "\n",
    "random.seed(0)\n",
    "\n",
    "\n",
    "\n",
    "\n",
    "def reconstruct_sparse(target_dict, name):\n",
    "    \"\"\"Return a reconstructed instance of `scipy.sparse.csc_matrix`.\"\"\"\n",
    "    return csc_matrix((target_dict[name + '_csc_data'],\n",
    "                       target_dict[name + '_csc_indices'],\n",
    "                       target_dict[name + '_csc_indptr']),\n",
    "                      shape=target_dict[name + '_csc_shape']).toarray()\n",
    "\n",
    "def load_sequence(file):\n",
    "    with np.load(file) as loaded:\n",
    "        if 'meta.json' not in loaded:\n",
    "            raise ValueError(\"Cannot find 'info.json' in the npz file.\")\n",
    "        meta_dict = json.loads(loaded['meta.json'].decode('utf-8'))\n",
    "        time_info = meta_dict['time_signature_changes']\n",
    "        # melody_id=meta_dict['melody_id']\n",
    "        idx = 0\n",
    "        tracks = []\n",
    "        while str(idx) in meta_dict:\n",
    "            matrix = reconstruct_sparse(\n",
    "                loaded, 'track_{}'.format(idx))\n",
    "            program = meta_dict[str(idx)]\n",
    "            # tracks.append([program,ticks,matrix])\n",
    "            tracks.append(matrix)\n",
    "            idx += 1\n",
    "        melody_info = reconstruct_sparse(loaded, 'melody_info')\n",
    "        return time_info, tracks, melody_info\n",
    "\n",
    "\n",
    "\n",
    "\n",
    "\n",
    "def get_bars(time_info, matrix):\n",
    "    bars = []\n",
    "    end_time = len(matrix[0])\n",
    "    for time_signature in time_info[::-1]:\n",
    "        signature = int(time_signature[0])\n",
    "        time = int(time_signature[1])\n",
    "        temp_matrix = matrix[:, time:end_time]\n",
    "        bar_number = (end_time - time) // signature\n",
    "        for i in reversed(range(bar_number)):\n",
    "            start = time + i * signature\n",
    "            end = start + signature\n",
    "            bar_matrix = temp_matrix[:, start:end]\n",
    "            bar_melody = bar_matrix[0:4, :]\n",
    "            bar_count_info = len(np.nonzero(bar_melody)[0]) // 4\n",
    "            if bar_count_info / signature >= 0.75:\n",
    "                bars.insert(0, temp_matrix[:, start:end])\n",
    "        end_time = time\n",
    "    return bars\n",
    "\n",
    "\n",
    "barlist = {}\n",
    "def split_sequence(name):\n",
    "    file_list = pickle.load(open('filenames/sequence/{}'.format(name), 'rb'))\n",
    "    # split sequence into bars\n",
    "    bar_path = 'dataset/bar/{}/'.format(name)\n",
    "\n",
    "    for file in file_list:\n",
    "        meta_dict = {}\n",
    "        bar_info = {}\n",
    "        time_info, tracks, melody_info = load_sequence(file)\n",
    "        time_info_len = len(time_info)\n",
    "        current_index = 1\n",
    "        while current_index < time_info_len:\n",
    "            if (time_info[current_index][1] - time_info[current_index - 1][1]) < time_info[current_index - 1][0]:\n",
    "                time_info.remove(time_info[current_index - 1])\n",
    "                time_info_len -= 1\n",
    "            current_index += 1\n",
    "        meta_dict['time_info'] = time_info\n",
    "        song_matrix = copy.deepcopy(melody_info)\n",
    "        for idx, track in enumerate(tracks):\n",
    "            song_matrix = np.vstack((song_matrix, track))\n",
    "        bars = get_bars(time_info, song_matrix)\n",
    "        #  filter songs with no more than 8 bars\n",
    "        if len(bars) >= 8:\n",
    "            barlist[file]=len(bars)\n",
    "            for idx, bar in enumerate(bars):\n",
    "                # update_sparse(bar_info, bar, str(idx))\n",
    "                bar_info[str(idx)] = bar\n",
    "        else:\n",
    "            barlist[file] = 0\n",
    "\n",
    "            # # save bars\n",
    "            # np.savez_compressed(bar_path + filename, **bar_info)\n"
   ]
  },
  {
   "cell_type": "code",
   "execution_count": 36,
   "metadata": {},
   "outputs": [
    {
     "name": "stdout",
     "output_type": "stream",
     "text": [
      "(4, 4095)\n",
      "11\n",
      "[0 0 0 ... 0 0 0]\n",
      "[0 0 0 ... 0 0 0]\n",
      "[0 0 0 ... 2 2 1]\n",
      "[0 0 0 ... 0 0 0]\n",
      "[0 0 0 ... 0 0 0]\n",
      "[0 0 0 ... 2 2 1]\n",
      "[0 0 0 ... 0 0 0]\n",
      "[0 0 0 ... 0 0 0]\n",
      "[0 0 0 ... 2 2 1]\n",
      "[0 0 0 ... 2 2 1]\n",
      "[0 0 0 ... 0 0 0]\n",
      "(48, 4095)\n"
     ]
    }
   ],
   "source": [
    "meta_dict = {}\n",
    "bar_info = {}\n",
    "time_info, tracks, melody_info = load_sequence('./sequence/0/TRAADKW128E079503A_aug_add_agg_neg.npz')\n",
    "time_info_len = len(time_info)\n",
    "current_index = 1\n",
    "while current_index < time_info_len:\n",
    "    if (time_info[current_index][1] - time_info[current_index - 1][1]) < time_info[current_index - 1][0]:\n",
    "        time_info.remove(time_info[current_index - 1])\n",
    "        time_info_len -= 1\n",
    "    current_index += 1\n",
    "meta_dict['time_info'] = time_info\n",
    "song_matrix = copy.deepcopy(melody_info)\n",
    "print(song_matrix.shape)\n",
    "print(len(tracks))\n",
    "for idx, track in enumerate(tracks):\n",
    "    print(track[3])\n",
    "    song_matrix = np.vstack((song_matrix, track))\n",
    "print(song_matrix.shape)\n",
    "bars = get_bars(time_info, song_matrix)"
   ]
  },
  {
   "cell_type": "code",
   "execution_count": null,
   "metadata": {},
   "outputs": [],
   "source": [
    "check 2~nth 'track's, see their last row, if theres any non-zero then instrument exists"
   ]
  },
  {
   "cell_type": "code",
   "execution_count": null,
   "metadata": {},
   "outputs": [],
   "source": [
    "\n"
   ]
  },
  {
   "cell_type": "code",
   "execution_count": 15,
   "metadata": {},
   "outputs": [],
   "source": [
    "dirs = ['0','1','2','3','4','5','6','7','8','9']\n",
    "for name in dirs:\n",
    "    split_sequence(name)"
   ]
  },
  {
   "cell_type": "code",
   "execution_count": 20,
   "metadata": {},
   "outputs": [
    {
     "name": "stdout",
     "output_type": "stream",
     "text": [
      "930\n"
     ]
    },
    {
     "data": {
      "text/plain": [
       "65"
      ]
     },
     "execution_count": 20,
     "metadata": {},
     "output_type": "execute_result"
    }
   ],
   "source": [
    "print(len(barlist))\n",
    "# print(barlist.keys())\n",
    "barlist['sequence/0/TRAADKW128E079503A_aug_add_agg_neg.npz']"
   ]
  },
  {
   "cell_type": "code",
   "execution_count": null,
   "metadata": {},
   "outputs": [],
   "source": []
  },
  {
   "cell_type": "code",
   "execution_count": 19,
   "metadata": {},
   "outputs": [
    {
     "name": "stdout",
     "output_type": "stream",
     "text": [
      "s:\\NLP\\PiRhDy\n"
     ]
    }
   ],
   "source": [
    "%cd ../"
   ]
  },
  {
   "cell_type": "code",
   "execution_count": 21,
   "metadata": {},
   "outputs": [
    {
     "name": "stdout",
     "output_type": "stream",
     "text": [
      "b'{\"time_signature_changes\": [[32, 0]], \"0\": 73, \"1\": 73, \"2\": 25, \"3\": 25, \"4\": 34, \"5\": 34, \"6\": 26, \"7\": 33, \"8\": 33, \"9\": 24, \"10\": 24}'\n",
      "0\n",
      "1\n",
      "2\n",
      "3\n",
      "4\n",
      "5\n",
      "6\n",
      "7\n",
      "8\n",
      "9\n",
      "10\n",
      "11\n",
      "12\n",
      "13\n",
      "14\n",
      "15\n",
      "16\n",
      "(48, 128)\n"
     ]
    }
   ],
   "source": [
    "import numpy as np\n",
    "seq = np.load('./sequence/0/TRAADKW128E079503A_aug_add_agg_neg.npz')\n",
    "\n",
    "print(seq['meta.json'])\n",
    "\n",
    "# for k in seq.keys():\n",
    "#     print(k)\n",
    "\n",
    "# bar = np.load('./dataset/bar/0/TRAADKW128E079503A_aug_add_agg_neg.npz')\n",
    "# for k in bar.keys():\n",
    "#     print(k)\n",
    "\n",
    "phrase = np.load('./dataset/phrase/0/TRAADKW128E079503A_aug_add_agg_neg.npz')\n",
    "for k in phrase.keys():\n",
    "    print(k)\n",
    "\n",
    "# print(bar['0'].shape)\n",
    "print(phrase['0'].shape)"
   ]
  },
  {
   "cell_type": "code",
   "execution_count": 24,
   "metadata": {},
   "outputs": [
    {
     "name": "stdout",
     "output_type": "stream",
     "text": [
      "time_signature_changes\n",
      "0\n",
      "1\n",
      "2\n",
      "3\n",
      "4\n",
      "5\n",
      "6\n",
      "7\n",
      "8\n",
      "9\n",
      "10\n"
     ]
    }
   ],
   "source": [
    "import json\n",
    "meta = json.loads(seq['meta.json'].decode('utf-8'))\n",
    "for k in meta.keys():\n",
    "    print(k)"
   ]
  },
  {
   "cell_type": "code",
   "execution_count": 40,
   "metadata": {},
   "outputs": [
    {
     "name": "stdout",
     "output_type": "stream",
     "text": [
      "4\n",
      "5\n",
      "0\n"
     ]
    }
   ],
   "source": [
    "import miditoolkit\n",
    "midi_obj =  miditoolkit.midi.parser.MidiFile('dataset/lakh_dataset/0/TRAADKW128E079503A_ori.mid')\n",
    "instruments = midi_obj.instruments\n",
    "for i in range(len(instruments)):\n",
    "    inst = instruments[i]\n",
    "    if inst.program==0:\n",
    "        aug_inst1 = copy.deepcopy(inst)\n",
    "        aug_inst2 = copy.deepcopy(inst)\n",
    "        aug_inst1.program=4\n",
    "        aug_inst2.program=5\n",
    "        print(aug_inst1.program)\n",
    "        print(aug_inst2.program)\n",
    "        print(inst.program)\n",
    "        aug_inst1.notes = inst.notes[:int(len(inst.notes)/2)]\n",
    "        aug_inst2.notes = inst.notes[int(len(inst.notes)/2):]\n",
    "        instruments.append(aug_inst1)\n",
    "        instruments.append(aug_inst2)"
   ]
  },
  {
   "cell_type": "code",
   "execution_count": 11,
   "metadata": {},
   "outputs": [
    {
     "name": "stdout",
     "output_type": "stream",
     "text": [
      "852\n",
      "84652\n"
     ]
    }
   ],
   "source": [
    "import pickle\n",
    "import numpy as np\n",
    "import random\n",
    "import os\n",
    "\n",
    "def check_phrase(matrix, threshold_value):\n",
    "    count_num = len(np.nonzero(matrix)[0]) // 4\n",
    "    if count_num / matrix.shape[1] >= threshold_value:\n",
    "        return True\n",
    "    return False\n",
    "\n",
    "dirs = ['0','1','2','3','4','5','6','7','8','9']\n",
    "total = 0\n",
    "acc_num_list_total = []\n",
    "test_melody_harmony = []\n",
    "\n",
    "for name in dirs:\n",
    "    seq_list = pickle.load(open('filenames/sequence/{}'.format(name), 'rb'))\n",
    "    file_list = pickle.load(open('filenames/phrase/{}'.format(name), 'rb'))\n",
    "    for file_id, file in enumerate(file_list):\n",
    "        acc_num_list = []\n",
    "        sequence = np.load(seq_list[file_id], allow_pickle=True)\n",
    "        phrases = np.load(file, allow_pickle=True)\n",
    "        meta_dict = json.loads(sequence['meta.json'].decode('utf-8'))\n",
    "        for idx, k in enumerate(meta_dict.keys()):\n",
    "            if meta_dict[k] == 0:\n",
    "                track_index_0 = idx\n",
    "            elif meta_dict[k] == 25:\n",
    "                track_index_1 = idx\n",
    "            elif meta_dict[k] == 33:\n",
    "                track_index_2 = idx\n",
    "        phrase_id = 0\n",
    "        if file_id % 100 not in [0,1,2,3,4,5]:\n",
    "            while str(phrase_id) in phrases:\n",
    "                acc_num = 0\n",
    "                phrase = phrases[str(phrase_id)]\n",
    "                melody = phrase[0:4, :]\n",
    "                inst_0 = phrase[4*track_index_0+4:4*track_index_0+8,3]\n",
    "                inst_1 = phrase[4*track_index_1+4:4*track_index_1+8,3]\n",
    "                inst_2 = phrase[4*track_index_2+4:4*track_index_2+8,3]\n",
    "\n",
    "                if sum(inst_0) * sum(inst_1) * sum(inst_2) == 0:\n",
    "                    include_list.append(0)\n",
    "                else:\n",
    "                    include_list.append(1)\n",
    "                track_num = phrase.shape[0] // 4\n",
    "                for track_id in range(1, track_num):\n",
    "                    accompaniment = phrase[0 + track_id * 4:4 * (track_id + 1), :]\n",
    "                    if check_phrase(accompaniment, 0.5):\n",
    "                        test_melody_harmony.append([file_id, melody, accompaniment])\n",
    "                        acc_num += 1\n",
    "                if acc_num != 0:\n",
    "                    acc_num_list.append(acc_num)\n",
    "                phrase_id += 1\n",
    "            acc_num_list_total.append(acc_num_list)\n",
    "print(len(acc_num_list_total))\n",
    "# for l in acc_num_list_total:\n",
    "#     print(len(l))\n",
    "print(len(test_melody_harmony))"
   ]
  },
  {
   "cell_type": "code",
   "execution_count": 12,
   "metadata": {},
   "outputs": [
    {
     "name": "stdout",
     "output_type": "stream",
     "text": [
      "142.0\n"
     ]
    }
   ],
   "source": [
    "print(len(acc_num_list_total)/6)"
   ]
  },
  {
   "cell_type": "code",
   "execution_count": 8,
   "metadata": {},
   "outputs": [
    {
     "name": "stdout",
     "output_type": "stream",
     "text": [
      "s:\\NLP\\PiRhDy\n"
     ]
    }
   ],
   "source": []
  },
  {
   "cell_type": "code",
   "execution_count": 14,
   "metadata": {},
   "outputs": [
    {
     "name": "stdout",
     "output_type": "stream",
     "text": [
      "s:\\NLP\\PiRhDy\\musicbert\n"
     ]
    }
   ],
   "source": [
    "%cd musicbert"
   ]
  },
  {
   "cell_type": "code",
   "execution_count": 17,
   "metadata": {},
   "outputs": [
    {
     "name": "stdout",
     "output_type": "stream",
     "text": [
      "#1\n",
      "candidate:  add_neg\n",
      "max:  0.9999998690625723\n",
      "min:  -0.9999999179083262\n",
      "mean:  0.18175010669342107\n",
      "\n",
      "candidate:  add_pos\n",
      "max:  0.9999999979673172\n",
      "min:  -0.9999999130765607\n",
      "mean:  0.23433659781466923\n",
      "\n",
      "candidate:  change_neg\n",
      "max:  0.999999998448033\n",
      "min:  -0.9999998769328665\n",
      "mean:  0.284694093815166\n",
      "\n",
      "candidate:  change_pos\n",
      "max:  0.999999988153312\n",
      "min:  -0.9999999786252992\n",
      "mean:  0.28692547561721377\n",
      "\n",
      "candidate:  change_shuf_neg\n",
      "max:  0.9999999973915049\n",
      "min:  -0.9999999292227921\n",
      "mean:  0.22438809217822867\n",
      "\n",
      "candidate:  orig\n",
      "max:  1.0000000000000002\n",
      "min:  0.9999999999999998\n",
      "mean:  1.0\n",
      "\n",
      "#7\n",
      "candidate:  add_neg\n",
      "max:  0.9999999999993612\n",
      "min:  0.9999990988507839\n",
      "mean:  0.9999998719965212\n",
      "\n",
      "candidate:  add_pos\n",
      "max:  0.9999999999986374\n",
      "min:  0.999998976206238\n",
      "mean:  0.9999998845133299\n",
      "\n",
      "candidate:  change_neg\n",
      "max:  1.0000000000000002\n",
      "min:  0.9999991714108962\n",
      "mean:  0.9999998904184115\n",
      "\n",
      "candidate:  change_pos\n",
      "max:  0.9999999999912269\n",
      "min:  0.9999992742666743\n",
      "mean:  0.9999998813507952\n",
      "\n",
      "candidate:  change_shuf_neg\n",
      "max:  0.9999999999997564\n",
      "min:  0.9999991543317762\n",
      "mean:  0.9999999042584363\n",
      "\n",
      "candidate:  orig\n",
      "max:  1.0000000000000002\n",
      "min:  0.9999999999999999\n",
      "mean:  1.0\n",
      "\n",
      "#13\n",
      "candidate:  add_neg\n",
      "max:  0.999999999999863\n",
      "min:  0.999992231130091\n",
      "mean:  0.9999990059363325\n",
      "\n",
      "candidate:  add_pos\n",
      "max:  0.9999999999989843\n",
      "min:  0.9999922672553906\n",
      "mean:  0.9999990095521547\n",
      "\n",
      "candidate:  change_neg\n",
      "max:  0.9999999999994301\n",
      "min:  0.9999928963811666\n",
      "mean:  0.9999990043697473\n",
      "\n",
      "candidate:  change_pos\n",
      "max:  0.9999999999997001\n",
      "min:  0.9999915334439667\n",
      "mean:  0.9999990731018236\n",
      "\n",
      "candidate:  change_shuf_neg\n",
      "max:  0.9999999999953766\n",
      "min:  0.999991417568646\n",
      "mean:  0.9999989994366258\n",
      "\n",
      "candidate:  orig\n",
      "max:  1.0000000000000002\n",
      "min:  0.9999999999999998\n",
      "mean:  1.0\n",
      "\n",
      "#19\n",
      "candidate:  add_neg\n",
      "max:  0.9999999999998846\n",
      "min:  0.999999565011619\n",
      "mean:  0.999999928230936\n",
      "\n",
      "candidate:  add_pos\n",
      "max:  0.9999999999997834\n",
      "min:  0.9999993892374676\n",
      "mean:  0.9999999259231148\n",
      "\n",
      "candidate:  change_neg\n",
      "max:  0.9999999999995987\n",
      "min:  0.9999995228750337\n",
      "mean:  0.9999999327800942\n",
      "\n",
      "candidate:  change_pos\n",
      "max:  0.9999999999998462\n",
      "min:  0.9999995609497725\n",
      "mean:  0.9999999355966555\n",
      "\n",
      "candidate:  change_shuf_neg\n",
      "max:  0.9999999999999845\n",
      "min:  0.9999994274904032\n",
      "mean:  0.9999999303198714\n",
      "\n",
      "candidate:  orig\n",
      "max:  1.0000000000000002\n",
      "min:  0.9999999999999999\n",
      "mean:  1.0\n",
      "\n",
      "#25\n",
      "candidate:  add_neg\n",
      "max:  0.9999999999971623\n",
      "min:  0.9999976229028148\n",
      "mean:  0.999999665425957\n",
      "\n",
      "candidate:  add_pos\n",
      "max:  0.9999999999943238\n",
      "min:  0.9999969850057785\n",
      "mean:  0.9999996379632333\n",
      "\n",
      "candidate:  change_neg\n",
      "max:  0.9999999999998624\n",
      "min:  0.9999976298764759\n",
      "mean:  0.9999996654152318\n",
      "\n",
      "candidate:  change_pos\n",
      "max:  0.9999999999907712\n",
      "min:  0.9999967777922755\n",
      "mean:  0.9999996446605074\n",
      "\n",
      "candidate:  change_shuf_neg\n",
      "max:  0.9999999999999984\n",
      "min:  0.999997489092654\n",
      "mean:  0.9999996861157894\n",
      "\n",
      "candidate:  orig\n",
      "max:  1.0000000000000002\n",
      "min:  0.9999999999999998\n",
      "mean:  1.0\n",
      "\n",
      "#31\n",
      "candidate:  add_neg\n",
      "max:  0.9999999999999873\n",
      "min:  0.9999974682833258\n",
      "mean:  0.9999996350007367\n",
      "\n",
      "candidate:  add_pos\n",
      "max:  0.9999999999998278\n",
      "min:  0.9999974146630246\n",
      "mean:  0.9999996513971838\n",
      "\n",
      "candidate:  change_neg\n",
      "max:  0.9999999999999996\n",
      "min:  0.9999974227940118\n",
      "mean:  0.9999996438694696\n",
      "\n",
      "candidate:  change_pos\n",
      "max:  1.0000000000000002\n",
      "min:  0.9999973231494896\n",
      "mean:  0.9999996620667233\n",
      "\n",
      "candidate:  change_shuf_neg\n",
      "max:  0.9999999999998727\n",
      "min:  0.9999973741415528\n",
      "mean:  0.9999996473157052\n",
      "\n",
      "candidate:  orig\n",
      "max:  1.0000000000000002\n",
      "min:  0.9999999999999999\n",
      "mean:  1.0\n",
      "\n",
      "#37\n",
      "candidate:  add_neg\n",
      "max:  0.9999999999995843\n",
      "min:  0.9999987743298155\n",
      "mean:  0.9999998535428125\n",
      "\n",
      "candidate:  add_pos\n",
      "max:  0.999999999999939\n",
      "min:  0.9999987505296636\n",
      "mean:  0.9999998478610543\n",
      "\n",
      "candidate:  change_neg\n",
      "max:  0.9999999999999598\n",
      "min:  0.9999990372126124\n",
      "mean:  0.9999998631530905\n",
      "\n",
      "candidate:  change_pos\n",
      "max:  0.999999999999999\n",
      "min:  0.9999986880185099\n",
      "mean:  0.9999998439644451\n",
      "\n",
      "candidate:  change_shuf_neg\n",
      "max:  0.9999999999999153\n",
      "min:  0.9999987703624504\n",
      "mean:  0.9999998538076146\n",
      "\n",
      "candidate:  orig\n",
      "max:  1.0000000000000002\n",
      "min:  0.9999999999999999\n",
      "mean:  1.0\n",
      "\n",
      "#43\n",
      "candidate:  add_neg\n",
      "max:  0.9999999999999994\n",
      "min:  0.9999995532150212\n",
      "mean:  0.9999999484020506\n",
      "\n",
      "candidate:  add_pos\n",
      "max:  0.9999999999999998\n",
      "min:  0.999999546183309\n",
      "mean:  0.9999999476680052\n",
      "\n",
      "candidate:  change_neg\n",
      "max:  0.9999999999999875\n",
      "min:  0.9999995312245783\n",
      "mean:  0.9999999451807455\n",
      "\n",
      "candidate:  change_pos\n",
      "max:  1.0000000000000002\n",
      "min:  0.9999995395058011\n",
      "mean:  0.9999999461335185\n",
      "\n",
      "candidate:  change_shuf_neg\n",
      "max:  0.9999999999999944\n",
      "min:  0.9999995482656069\n",
      "mean:  0.9999999446372783\n",
      "\n",
      "candidate:  orig\n",
      "max:  1.0000000000000002\n",
      "min:  0.9999999999999998\n",
      "mean:  1.0\n",
      "\n",
      "#49\n",
      "candidate:  add_neg\n",
      "max:  0.9999999999998317\n",
      "min:  0.9999997623714628\n",
      "mean:  0.9999999662462018\n",
      "\n",
      "candidate:  add_pos\n",
      "max:  0.9999999999996417\n",
      "min:  0.9999997300332745\n",
      "mean:  0.9999999695467423\n",
      "\n",
      "candidate:  change_neg\n",
      "max:  1.0000000000000002\n",
      "min:  0.9999997815062294\n",
      "mean:  0.9999999711039544\n",
      "\n",
      "candidate:  change_pos\n",
      "max:  0.9999999999976892\n",
      "min:  0.9999998086302111\n",
      "mean:  0.9999999687129257\n",
      "\n",
      "candidate:  change_shuf_neg\n",
      "max:  0.9999999999999353\n",
      "min:  0.999999777002494\n",
      "mean:  0.999999974753491\n",
      "\n",
      "candidate:  orig\n",
      "max:  1.0000000000000002\n",
      "min:  0.9999999999999999\n",
      "mean:  1.0\n",
      "\n",
      "#55\n",
      "candidate:  add_neg\n",
      "max:  0.9999999999995661\n",
      "min:  0.9999940275954008\n",
      "mean:  0.999999054170479\n",
      "\n",
      "candidate:  add_pos\n",
      "max:  0.9999999999888578\n",
      "min:  0.9999932400511872\n",
      "mean:  0.9999991313388918\n",
      "\n",
      "candidate:  change_neg\n",
      "max:  0.9999999999947231\n",
      "min:  0.9999920059990698\n",
      "mean:  0.9999991240205622\n",
      "\n",
      "candidate:  change_pos\n",
      "max:  0.9999999999993222\n",
      "min:  0.9999926974057365\n",
      "mean:  0.9999991215326526\n",
      "\n",
      "candidate:  change_shuf_neg\n",
      "max:  0.9999999999984066\n",
      "min:  0.9999931223705314\n",
      "mean:  0.9999991941457659\n",
      "\n",
      "candidate:  orig\n",
      "max:  1.0000000000000002\n",
      "min:  0.9999999999999998\n",
      "mean:  1.0\n",
      "\n"
     ]
    }
   ],
   "source": [
    "# %cd musicbert\n",
    "import numpy as np\n",
    "from numpy import dot\n",
    "from numpy.linalg import norm\n",
    "\n",
    "candidate = ['add_neg','add_pos','change_neg','change_pos','change_shuf_neg','orig']\n",
    "result = np.loadtxt('logits.txt')\n",
    "# print(result.shape)\n",
    "start = 0\n",
    "for i in range(10):\n",
    "# for i in range(int(len(acc_num_list_total)/5)):\n",
    "    logits = []\n",
    "    for j in range(6):\n",
    "        logits.append(start+result[len(acc_num_list_total[6*i]) * 50 * j:len(acc_num_list_total[6*i]) * 50 * (j+1)])\n",
    "    start = len(acc_num_list_total[6*i]) * 50 * 6\n",
    "    print(f'#{6*i+1}')\n",
    "    for j in range(6):\n",
    "        cos_sim = []\n",
    "        avg_logit = []\n",
    "        for k in range(len(logits[j])):\n",
    "            avg_logit.append(logits[j][k])\n",
    "            # if j in [0,2]:\n",
    "            #     cos_sim.append(dot(logits[j][k], logits[j+1][k])/(norm(logits[j][k])*norm(logits[j+1][k])))    \n",
    "            # elif j in [1,3,4]:\n",
    "            #     cos_sim.append(dot(logits[j][k], logits[j-1][k])/(norm(logits[j][k])*norm(logits[j-1][k])))    \n",
    "            # else:\n",
    "            #     cos_sim.append(dot(logits[j][k], logits[5][k])/(norm(logits[j][k])*norm(logits[5][k])))\n",
    "            cos_sim.append(dot(logits[j][k], logits[5][k])/(norm(logits[j][k])*norm(logits[5][k])))\n",
    "        # print(sum(avg_logit)/len(avg_logit))\n",
    "        print('candidate: ',candidate[j])\n",
    "        print('max: ',max(cos_sim))\n",
    "        print('min: ',min(cos_sim))\n",
    "        print('mean: ',sum(cos_sim)/len(cos_sim))\n",
    "        print('')\n"
   ]
  },
  {
   "cell_type": "code",
   "execution_count": 3,
   "metadata": {},
   "outputs": [
    {
     "name": "stdout",
     "output_type": "stream",
     "text": [
      "s:\\NLP\\PiRhDy\\musicbert\n"
     ]
    },
    {
     "ename": "FileNotFoundError",
     "evalue": "[Errno 2] No such file or directory: 'sequence/0/TRAADKW128E079503A_aug_add_agg_neg'",
     "output_type": "error",
     "traceback": [
      "\u001b[1;31m---------------------------------------------------------------------------\u001b[0m",
      "\u001b[1;31mFileNotFoundError\u001b[0m                         Traceback (most recent call last)",
      "\u001b[1;32ms:\\NLP\\PiRhDy\\musicbert\\musicbert.ipynb 셀 15\u001b[0m in \u001b[0;36m<cell line: 3>\u001b[1;34m()\u001b[0m\n\u001b[0;32m      <a href='vscode-notebook-cell:/s%3A/NLP/PiRhDy/musicbert/musicbert.ipynb#X20sZmlsZQ%3D%3D?line=0'>1</a>\u001b[0m get_ipython()\u001b[39m.\u001b[39msystem(\u001b[39m'\u001b[39m\u001b[39mcd\u001b[39m\u001b[39m'\u001b[39m)\n\u001b[0;32m      <a href='vscode-notebook-cell:/s%3A/NLP/PiRhDy/musicbert/musicbert.ipynb#X20sZmlsZQ%3D%3D?line=1'>2</a>\u001b[0m \u001b[39mimport\u001b[39;00m \u001b[39mnumpy\u001b[39;00m \u001b[39mas\u001b[39;00m \u001b[39mnp\u001b[39;00m\n\u001b[1;32m----> <a href='vscode-notebook-cell:/s%3A/NLP/PiRhDy/musicbert/musicbert.ipynb#X20sZmlsZQ%3D%3D?line=2'>3</a>\u001b[0m seq \u001b[39m=\u001b[39m np\u001b[39m.\u001b[39;49mload(\u001b[39m'\u001b[39;49m\u001b[39msequence/0/TRAADKW128E079503A_aug_add_agg_neg\u001b[39;49m\u001b[39m'\u001b[39;49m)\n",
      "File \u001b[1;32m~\\AppData\\Local\\Packages\\PythonSoftwareFoundation.Python.3.9_qbz5n2kfra8p0\\LocalCache\\local-packages\\Python39\\site-packages\\numpy\\lib\\npyio.py:416\u001b[0m, in \u001b[0;36mload\u001b[1;34m(file, mmap_mode, allow_pickle, fix_imports, encoding)\u001b[0m\n\u001b[0;32m    414\u001b[0m     own_fid \u001b[39m=\u001b[39m \u001b[39mFalse\u001b[39;00m\n\u001b[0;32m    415\u001b[0m \u001b[39melse\u001b[39;00m:\n\u001b[1;32m--> 416\u001b[0m     fid \u001b[39m=\u001b[39m stack\u001b[39m.\u001b[39menter_context(\u001b[39mopen\u001b[39;49m(os_fspath(file), \u001b[39m\"\u001b[39;49m\u001b[39mrb\u001b[39;49m\u001b[39m\"\u001b[39;49m))\n\u001b[0;32m    417\u001b[0m     own_fid \u001b[39m=\u001b[39m \u001b[39mTrue\u001b[39;00m\n\u001b[0;32m    419\u001b[0m \u001b[39m# Code to distinguish from NumPy binary files and pickles.\u001b[39;00m\n",
      "\u001b[1;31mFileNotFoundError\u001b[0m: [Errno 2] No such file or directory: 'sequence/0/TRAADKW128E079503A_aug_add_agg_neg'"
     ]
    }
   ],
   "source": []
  },
  {
   "cell_type": "code",
   "execution_count": null,
   "metadata": {},
   "outputs": [],
   "source": []
  }
 ],
 "metadata": {
  "kernelspec": {
   "display_name": "Python 3.9.13 64-bit (microsoft store)",
   "language": "python",
   "name": "python3"
  },
  "language_info": {
   "codemirror_mode": {
    "name": "ipython",
    "version": 3
   },
   "file_extension": ".py",
   "mimetype": "text/x-python",
   "name": "python",
   "nbconvert_exporter": "python",
   "pygments_lexer": "ipython3",
   "version": "3.9.13"
  },
  "orig_nbformat": 4,
  "vscode": {
   "interpreter": {
    "hash": "4f3c10860cab2261b930a282641ecbc0ff5a7848a5882ac9bdbda422ffca9fca"
   }
  }
 },
 "nbformat": 4,
 "nbformat_minor": 2
}
